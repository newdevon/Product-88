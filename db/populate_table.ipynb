{
 "cells": [
  {
   "attachments": {},
   "cell_type": "markdown",
   "metadata": {},
   "source": [
    "#### Imports"
   ]
  },
  {
   "cell_type": "code",
   "execution_count": 1,
   "metadata": {},
   "outputs": [],
   "source": [
    "import pandas as pd\n",
    "import sqlite3 as sq"
   ]
  },
  {
   "attachments": {},
   "cell_type": "markdown",
   "metadata": {},
   "source": [
    "#### Import from Old SQLite Store"
   ]
  },
  {
   "cell_type": "code",
   "execution_count": 94,
   "metadata": {},
   "outputs": [
    {
     "data": {
      "text/html": [
       "<div>\n",
       "<style scoped>\n",
       "    .dataframe tbody tr th:only-of-type {\n",
       "        vertical-align: middle;\n",
       "    }\n",
       "\n",
       "    .dataframe tbody tr th {\n",
       "        vertical-align: top;\n",
       "    }\n",
       "\n",
       "    .dataframe thead th {\n",
       "        text-align: right;\n",
       "    }\n",
       "</style>\n",
       "<table border=\"1\" class=\"dataframe\">\n",
       "  <thead>\n",
       "    <tr style=\"text-align: right;\">\n",
       "      <th></th>\n",
       "      <th>id</th>\n",
       "      <th>pub_id</th>\n",
       "      <th>title</th>\n",
       "      <th>price</th>\n",
       "      <th>category</th>\n",
       "      <th>quantity</th>\n",
       "      <th>b_format</th>\n",
       "      <th>prod_year</th>\n",
       "      <th>filesize</th>\n",
       "    </tr>\n",
       "  </thead>\n",
       "  <tbody>\n",
       "    <tr>\n",
       "      <th>0</th>\n",
       "      <td>0399149392</td>\n",
       "      <td>21</td>\n",
       "      <td>Chesapeake Blue</td>\n",
       "      <td>25.95</td>\n",
       "      <td>Literature &amp; Fiction</td>\n",
       "      <td>41</td>\n",
       "      <td>epub</td>\n",
       "      <td>2002</td>\n",
       "      <td>7676</td>\n",
       "    </tr>\n",
       "    <tr>\n",
       "      <th>1</th>\n",
       "      <td>156158648X</td>\n",
       "      <td>61</td>\n",
       "      <td>The New City Home: Smart Solutions for Metro L...</td>\n",
       "      <td>24.95</td>\n",
       "      <td>Home Design</td>\n",
       "      <td>30</td>\n",
       "      <td>leaflet</td>\n",
       "      <td>2003</td>\n",
       "      <td>1042</td>\n",
       "    </tr>\n",
       "    <tr>\n",
       "      <th>2</th>\n",
       "      <td>0156006219</td>\n",
       "      <td>10</td>\n",
       "      <td>The Magician's Assistant</td>\n",
       "      <td>13.00</td>\n",
       "      <td>Romance</td>\n",
       "      <td>33</td>\n",
       "      <td>epub</td>\n",
       "      <td>1998</td>\n",
       "      <td>5220</td>\n",
       "    </tr>\n",
       "    <tr>\n",
       "      <th>3</th>\n",
       "      <td>0440237556</td>\n",
       "      <td>41</td>\n",
       "      <td>The Dark Highlander</td>\n",
       "      <td>6.99</td>\n",
       "      <td>Romance</td>\n",
       "      <td>69</td>\n",
       "      <td>pdf</td>\n",
       "      <td>2002</td>\n",
       "      <td>55</td>\n",
       "    </tr>\n",
       "    <tr>\n",
       "      <th>4</th>\n",
       "      <td>038572179X</td>\n",
       "      <td>54</td>\n",
       "      <td>Atonement</td>\n",
       "      <td>14.00</td>\n",
       "      <td>Literature &amp; Fiction</td>\n",
       "      <td>77</td>\n",
       "      <td>leaflet</td>\n",
       "      <td>2003</td>\n",
       "      <td>5817</td>\n",
       "    </tr>\n",
       "  </tbody>\n",
       "</table>\n",
       "</div>"
      ],
      "text/plain": [
       "           id  pub_id                                              title   \n",
       "0  0399149392      21                                    Chesapeake Blue  \\\n",
       "1  156158648X      61  The New City Home: Smart Solutions for Metro L...   \n",
       "2  0156006219      10                           The Magician's Assistant   \n",
       "3  0440237556      41                                The Dark Highlander   \n",
       "4  038572179X      54                                          Atonement   \n",
       "\n",
       "   price              category  quantity b_format  prod_year  filesize  \n",
       "0  25.95  Literature & Fiction        41     epub       2002      7676  \n",
       "1  24.95           Home Design        30  leaflet       2003      1042  \n",
       "2  13.00               Romance        33     epub       1998      5220  \n",
       "3   6.99               Romance        69      pdf       2002        55  \n",
       "4  14.00  Literature & Fiction        77  leaflet       2003      5817  "
      ]
     },
     "execution_count": 94,
     "metadata": {},
     "output_type": "execute_result"
    }
   ],
   "source": [
    "book = pd.read_sql_query(f\"SELECT * from Book\", sq.connect(\"oldstore.db\"))\n",
    "book.head()\n"
   ]
  },
  {
   "attachments": {},
   "cell_type": "markdown",
   "metadata": {},
   "source": [
    "#### Drop Columns to Match our new SQLite DB Columns"
   ]
  },
  {
   "cell_type": "code",
   "execution_count": 6,
   "metadata": {},
   "outputs": [
    {
     "data": {
      "text/plain": [
       "Index(['id', 'pub_id', 'title', 'price', 'category', 'quantity', 'b_format',\n",
       "       'prod_year', 'filesize'],\n",
       "      dtype='object')"
      ]
     },
     "execution_count": 6,
     "metadata": {},
     "output_type": "execute_result"
    }
   ],
   "source": [
    "book.columns"
   ]
  },
  {
   "cell_type": "code",
   "execution_count": 92,
   "metadata": {},
   "outputs": [],
   "source": [
    "book = book.drop(columns=['pub_id', 'filesize'])"
   ]
  },
  {
   "attachments": {},
   "cell_type": "markdown",
   "metadata": {},
   "source": [
    "#### Book Table\n",
    "Clean ID Table"
   ]
  },
  {
   "cell_type": "code",
   "execution_count": null,
   "metadata": {},
   "outputs": [],
   "source": [
    "book['id'] = book['id'].str.strip('X')\n",
    "book['id'] = book['id'].str.replace(('-'),\"\")"
   ]
  },
  {
   "cell_type": "code",
   "execution_count": null,
   "metadata": {},
   "outputs": [],
   "source": [
    "book.rename(columns={'prod_year': 'year', 'category': 'category_id'}, inplace=True)\n",
    "book['rating'] = 100\n",
    "book = book[['id', 'title', 'price', 'year', 'quantity', 'rating', 'category_id']]"
   ]
  },
  {
   "cell_type": "code",
   "execution_count": 99,
   "metadata": {},
   "outputs": [
    {
     "data": {
      "text/html": [
       "<div>\n",
       "<style scoped>\n",
       "    .dataframe tbody tr th:only-of-type {\n",
       "        vertical-align: middle;\n",
       "    }\n",
       "\n",
       "    .dataframe tbody tr th {\n",
       "        vertical-align: top;\n",
       "    }\n",
       "\n",
       "    .dataframe thead th {\n",
       "        text-align: right;\n",
       "    }\n",
       "</style>\n",
       "<table border=\"1\" class=\"dataframe\">\n",
       "  <thead>\n",
       "    <tr style=\"text-align: right;\">\n",
       "      <th></th>\n",
       "      <th>id</th>\n",
       "      <th>title</th>\n",
       "      <th>price</th>\n",
       "      <th>year</th>\n",
       "      <th>quantity</th>\n",
       "      <th>rating</th>\n",
       "      <th>category_id</th>\n",
       "    </tr>\n",
       "  </thead>\n",
       "  <tbody>\n",
       "    <tr>\n",
       "      <th>0</th>\n",
       "      <td>0399149392</td>\n",
       "      <td>Chesapeake Blue</td>\n",
       "      <td>25.95</td>\n",
       "      <td>2002</td>\n",
       "      <td>41</td>\n",
       "      <td>100</td>\n",
       "      <td>Literature &amp; Fiction</td>\n",
       "    </tr>\n",
       "    <tr>\n",
       "      <th>1</th>\n",
       "      <td>156158648X</td>\n",
       "      <td>The New City Home: Smart Solutions for Metro L...</td>\n",
       "      <td>24.95</td>\n",
       "      <td>2003</td>\n",
       "      <td>30</td>\n",
       "      <td>100</td>\n",
       "      <td>Home Design</td>\n",
       "    </tr>\n",
       "    <tr>\n",
       "      <th>2</th>\n",
       "      <td>0156006219</td>\n",
       "      <td>The Magician's Assistant</td>\n",
       "      <td>13.00</td>\n",
       "      <td>1998</td>\n",
       "      <td>33</td>\n",
       "      <td>100</td>\n",
       "      <td>Romance</td>\n",
       "    </tr>\n",
       "    <tr>\n",
       "      <th>3</th>\n",
       "      <td>0440237556</td>\n",
       "      <td>The Dark Highlander</td>\n",
       "      <td>6.99</td>\n",
       "      <td>2002</td>\n",
       "      <td>69</td>\n",
       "      <td>100</td>\n",
       "      <td>Romance</td>\n",
       "    </tr>\n",
       "    <tr>\n",
       "      <th>4</th>\n",
       "      <td>038572179X</td>\n",
       "      <td>Atonement</td>\n",
       "      <td>14.00</td>\n",
       "      <td>2003</td>\n",
       "      <td>77</td>\n",
       "      <td>100</td>\n",
       "      <td>Literature &amp; Fiction</td>\n",
       "    </tr>\n",
       "  </tbody>\n",
       "</table>\n",
       "</div>"
      ],
      "text/plain": [
       "           id                                              title  price  year   \n",
       "0  0399149392                                    Chesapeake Blue  25.95  2002  \\\n",
       "1  156158648X  The New City Home: Smart Solutions for Metro L...  24.95  2003   \n",
       "2  0156006219                           The Magician's Assistant  13.00  1998   \n",
       "3  0440237556                                The Dark Highlander   6.99  2002   \n",
       "4  038572179X                                          Atonement  14.00  2003   \n",
       "\n",
       "   quantity  rating           category_id  \n",
       "0        41     100  Literature & Fiction  \n",
       "1        30     100           Home Design  \n",
       "2        33     100               Romance  \n",
       "3        69     100               Romance  \n",
       "4        77     100  Literature & Fiction  "
      ]
     },
     "execution_count": 99,
     "metadata": {},
     "output_type": "execute_result"
    }
   ],
   "source": [
    "book.head()"
   ]
  },
  {
   "attachments": {},
   "cell_type": "markdown",
   "metadata": {},
   "source": [
    "#### Author Table"
   ]
  },
  {
   "cell_type": "code",
   "execution_count": 60,
   "metadata": {},
   "outputs": [],
   "source": [
    "author = pd.read_sql_query(f\"SELECT * from Source\", sq.connect(\"oldstore.db\"))"
   ]
  },
  {
   "cell_type": "code",
   "execution_count": 63,
   "metadata": {},
   "outputs": [],
   "source": [
    "# Cast Table Column to String\n",
    "author['s_name'] = author['s_name'].astype('string')\n",
    "\n",
    "# Rename Columns\n",
    "author.rename(columns={'s_name': 'name'}, inplace=True)"
   ]
  },
  {
   "attachments": {},
   "cell_type": "markdown",
   "metadata": {},
   "source": [
    "#### Book Author Table"
   ]
  },
  {
   "cell_type": "code",
   "execution_count": 4,
   "metadata": {},
   "outputs": [
    {
     "data": {
      "text/html": [
       "<div>\n",
       "<style scoped>\n",
       "    .dataframe tbody tr th:only-of-type {\n",
       "        vertical-align: middle;\n",
       "    }\n",
       "\n",
       "    .dataframe tbody tr th {\n",
       "        vertical-align: top;\n",
       "    }\n",
       "\n",
       "    .dataframe thead th {\n",
       "        text-align: right;\n",
       "    }\n",
       "</style>\n",
       "<table border=\"1\" class=\"dataframe\">\n",
       "  <thead>\n",
       "    <tr style=\"text-align: right;\">\n",
       "      <th></th>\n",
       "      <th>id</th>\n",
       "      <th>s_id</th>\n",
       "      <th>prod_id</th>\n",
       "    </tr>\n",
       "  </thead>\n",
       "  <tbody>\n",
       "    <tr>\n",
       "      <th>0</th>\n",
       "      <td>1</td>\n",
       "      <td>25</td>\n",
       "      <td>0743467523</td>\n",
       "    </tr>\n",
       "    <tr>\n",
       "      <th>1</th>\n",
       "      <td>2</td>\n",
       "      <td>96</td>\n",
       "      <td>0440237556</td>\n",
       "    </tr>\n",
       "    <tr>\n",
       "      <th>2</th>\n",
       "      <td>3</td>\n",
       "      <td>31</td>\n",
       "      <td>0385494246</td>\n",
       "    </tr>\n",
       "    <tr>\n",
       "      <th>3</th>\n",
       "      <td>4</td>\n",
       "      <td>54</td>\n",
       "      <td>156158648X</td>\n",
       "    </tr>\n",
       "    <tr>\n",
       "      <th>4</th>\n",
       "      <td>5</td>\n",
       "      <td>22</td>\n",
       "      <td>0061020656</td>\n",
       "    </tr>\n",
       "    <tr>\n",
       "      <th>...</th>\n",
       "      <td>...</td>\n",
       "      <td>...</td>\n",
       "      <td>...</td>\n",
       "    </tr>\n",
       "    <tr>\n",
       "      <th>136</th>\n",
       "      <td>137</td>\n",
       "      <td>71</td>\n",
       "      <td>0517576600</td>\n",
       "    </tr>\n",
       "    <tr>\n",
       "      <th>137</th>\n",
       "      <td>138</td>\n",
       "      <td>34</td>\n",
       "      <td>1579550088</td>\n",
       "    </tr>\n",
       "    <tr>\n",
       "      <th>138</th>\n",
       "      <td>139</td>\n",
       "      <td>97</td>\n",
       "      <td>0316666343</td>\n",
       "    </tr>\n",
       "    <tr>\n",
       "      <th>139</th>\n",
       "      <td>140</td>\n",
       "      <td>92</td>\n",
       "      <td>0972263608</td>\n",
       "    </tr>\n",
       "    <tr>\n",
       "      <th>140</th>\n",
       "      <td>1000</td>\n",
       "      <td>1000</td>\n",
       "      <td>0-7475-3269-9</td>\n",
       "    </tr>\n",
       "  </tbody>\n",
       "</table>\n",
       "<p>141 rows × 3 columns</p>\n",
       "</div>"
      ],
      "text/plain": [
       "       id  s_id        prod_id\n",
       "0       1    25     0743467523\n",
       "1       2    96     0440237556\n",
       "2       3    31     0385494246\n",
       "3       4    54     156158648X\n",
       "4       5    22     0061020656\n",
       "..    ...   ...            ...\n",
       "136   137    71     0517576600\n",
       "137   138    34     1579550088\n",
       "138   139    97     0316666343\n",
       "139   140    92     0972263608\n",
       "140  1000  1000  0-7475-3269-9\n",
       "\n",
       "[141 rows x 3 columns]"
      ]
     },
     "execution_count": 4,
     "metadata": {},
     "output_type": "execute_result"
    }
   ],
   "source": [
    "bookauthor = pd.read_sql_query(f\"SELECT * from SourceProduct\", sq.connect(\"oldstore.db\"))\n",
    "bookauthor.rename(columns={'s_id': 'author_id', 'prod_id': 'book_id'})"
   ]
  },
  {
   "attachments": {},
   "cell_type": "markdown",
   "metadata": {},
   "source": [
    "#### Category Table"
   ]
  },
  {
   "cell_type": "code",
   "execution_count": 58,
   "metadata": {},
   "outputs": [],
   "source": [
    "category = pd.DataFrame({'category': book[\"category\"].unique()})\n",
    "category.index = category.index + 1\n",
    "category['id'] = category.index\n",
    "\n",
    "# Fix Category Column Types\n",
    "category['category'] = category['category'].astype('string')\n",
    "\n",
    "# Reorder, Rename, and Reset Index \n",
    "category = category[['id', 'category']]\n",
    "category.rename(columns={'category': 'name'},inplace=True)\n",
    "category.reset_index(inplace=True, drop=True)"
   ]
  },
  {
   "cell_type": "code",
   "execution_count": 59,
   "metadata": {},
   "outputs": [
    {
     "data": {
      "text/html": [
       "<div>\n",
       "<style scoped>\n",
       "    .dataframe tbody tr th:only-of-type {\n",
       "        vertical-align: middle;\n",
       "    }\n",
       "\n",
       "    .dataframe tbody tr th {\n",
       "        vertical-align: top;\n",
       "    }\n",
       "\n",
       "    .dataframe thead th {\n",
       "        text-align: right;\n",
       "    }\n",
       "</style>\n",
       "<table border=\"1\" class=\"dataframe\">\n",
       "  <thead>\n",
       "    <tr style=\"text-align: right;\">\n",
       "      <th></th>\n",
       "      <th>id</th>\n",
       "      <th>name</th>\n",
       "    </tr>\n",
       "  </thead>\n",
       "  <tbody>\n",
       "    <tr>\n",
       "      <th>0</th>\n",
       "      <td>1</td>\n",
       "      <td>Literature &amp; Fiction</td>\n",
       "    </tr>\n",
       "    <tr>\n",
       "      <th>1</th>\n",
       "      <td>2</td>\n",
       "      <td>Home Design</td>\n",
       "    </tr>\n",
       "    <tr>\n",
       "      <th>2</th>\n",
       "      <td>3</td>\n",
       "      <td>Romance</td>\n",
       "    </tr>\n",
       "    <tr>\n",
       "      <th>3</th>\n",
       "      <td>4</td>\n",
       "      <td>Science</td>\n",
       "    </tr>\n",
       "    <tr>\n",
       "      <th>4</th>\n",
       "      <td>5</td>\n",
       "      <td>Fantasy</td>\n",
       "    </tr>\n",
       "    <tr>\n",
       "      <th>5</th>\n",
       "      <td>6</td>\n",
       "      <td>Computer</td>\n",
       "    </tr>\n",
       "    <tr>\n",
       "      <th>6</th>\n",
       "      <td>7</td>\n",
       "      <td>Accounting &amp; Finance</td>\n",
       "    </tr>\n",
       "    <tr>\n",
       "      <th>7</th>\n",
       "      <td>8</td>\n",
       "      <td>Horror</td>\n",
       "    </tr>\n",
       "    <tr>\n",
       "      <th>8</th>\n",
       "      <td>9</td>\n",
       "      <td>Reference</td>\n",
       "    </tr>\n",
       "    <tr>\n",
       "      <th>9</th>\n",
       "      <td>10</td>\n",
       "      <td>Fiction</td>\n",
       "    </tr>\n",
       "  </tbody>\n",
       "</table>\n",
       "</div>"
      ],
      "text/plain": [
       "   id                  name\n",
       "0   1  Literature & Fiction\n",
       "1   2           Home Design\n",
       "2   3               Romance\n",
       "3   4               Science\n",
       "4   5               Fantasy\n",
       "5   6              Computer\n",
       "6   7  Accounting & Finance\n",
       "7   8                Horror\n",
       "8   9             Reference\n",
       "9  10               Fiction"
      ]
     },
     "execution_count": 59,
     "metadata": {},
     "output_type": "execute_result"
    }
   ],
   "source": [
    "category"
   ]
  },
  {
   "cell_type": "code",
   "execution_count": null,
   "metadata": {},
   "outputs": [],
   "source": []
  }
 ],
 "metadata": {
  "kernelspec": {
   "display_name": ".venv",
   "language": "python",
   "name": "python3"
  },
  "language_info": {
   "codemirror_mode": {
    "name": "ipython",
    "version": 3
   },
   "file_extension": ".py",
   "mimetype": "text/x-python",
   "name": "python",
   "nbconvert_exporter": "python",
   "pygments_lexer": "ipython3",
   "version": "3.11.0"
  },
  "orig_nbformat": 4
 },
 "nbformat": 4,
 "nbformat_minor": 2
}
